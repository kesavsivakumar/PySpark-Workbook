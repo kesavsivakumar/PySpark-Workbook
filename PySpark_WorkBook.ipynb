{
  "nbformat": 4,
  "nbformat_minor": 0,
  "metadata": {
    "colab": {
      "name": "PySpark_WorkBook.ipynb",
      "provenance": []
    },
    "kernelspec": {
      "name": "python3",
      "display_name": "Python 3"
    },
    "language_info": {
      "name": "python"
    }
  },
  "cells": [
    {
      "cell_type": "code",
      "metadata": {
        "id": "rVeokxpSZWzO"
      },
      "source": [
        "!apt-get install openjdk-8-jdk-headless -qq > /dev/null\n",
        "!wget -q https://mirrors.estointernet.in/apache/spark/spark-3.1.2/spark-3.1.2-bin-hadoop3.2.tgz\n",
        "!tar xf spark-3.1.2-bin-hadoop3.2.tgz\n",
        "!pip install -q findspark"
      ],
      "execution_count": null,
      "outputs": []
    },
    {
      "cell_type": "code",
      "metadata": {
        "id": "l8WW0hPyZWv9"
      },
      "source": [
        "import os\n",
        "os.environ[\"JAVA_HOME\"] = \"/usr/lib/jvm/java-8-openjdk-amd64\"\n",
        "os.environ[\"SPARK_HOME\"] = \"/content/spark-3.1.2-bin-hadoop3.2\""
      ],
      "execution_count": null,
      "outputs": []
    },
    {
      "cell_type": "code",
      "metadata": {
        "id": "Um0hCnDFYEAH"
      },
      "source": [
        "import findspark\n",
        "findspark.init()"
      ],
      "execution_count": null,
      "outputs": []
    },
    {
      "cell_type": "code",
      "metadata": {
        "colab": {
          "base_uri": "https://localhost:8080/",
          "height": 35
        },
        "id": "84kcNKQlfrp3",
        "outputId": "ff779d5c-40da-447c-e1c0-a5ce68145f18"
      },
      "source": [
        "findspark.find()"
      ],
      "execution_count": null,
      "outputs": [
        {
          "output_type": "execute_result",
          "data": {
            "application/vnd.google.colaboratory.intrinsic+json": {
              "type": "string"
            },
            "text/plain": [
              "'/content/spark-3.1.2-bin-hadoop3.2'"
            ]
          },
          "metadata": {
            "tags": []
          },
          "execution_count": 49
        }
      ]
    },
    {
      "cell_type": "code",
      "metadata": {
        "id": "IiKdSZrKfzBz"
      },
      "source": [
        "from pyspark.sql import SparkSession\n",
        "\n",
        "spark = SparkSession.builder.master(\"local\").appName(\"Colab_Excersie\").config('spark.ui.port', '4050').getOrCreate()"
      ],
      "execution_count": null,
      "outputs": []
    },
    {
      "cell_type": "code",
      "metadata": {
        "colab": {
          "base_uri": "https://localhost:8080/",
          "height": 216
        },
        "id": "qrB7yCjQgFn-",
        "outputId": "e7e408a8-001f-4fa9-d072-5a31e5320201"
      },
      "source": [
        "spark"
      ],
      "execution_count": null,
      "outputs": [
        {
          "output_type": "execute_result",
          "data": {
            "text/html": [
              "\n",
              "            <div>\n",
              "                <p><b>SparkSession - in-memory</b></p>\n",
              "                \n",
              "        <div>\n",
              "            <p><b>SparkContext</b></p>\n",
              "\n",
              "            <p><a href=\"http://d57ed10bcffe:4050\">Spark UI</a></p>\n",
              "\n",
              "            <dl>\n",
              "              <dt>Version</dt>\n",
              "                <dd><code>v3.1.2</code></dd>\n",
              "              <dt>Master</dt>\n",
              "                <dd><code>local</code></dd>\n",
              "              <dt>AppName</dt>\n",
              "                <dd><code>Colab_Excersie</code></dd>\n",
              "            </dl>\n",
              "        </div>\n",
              "        \n",
              "            </div>\n",
              "        "
            ],
            "text/plain": [
              "<pyspark.sql.session.SparkSession at 0x7f2ffdabb910>"
            ]
          },
          "metadata": {
            "tags": []
          },
          "execution_count": 53
        }
      ]
    },
    {
      "cell_type": "markdown",
      "metadata": {
        "id": "f6ngJYXFioNV"
      },
      "source": [
        "## parallelize() method is used to create an RDD from a iterable object\n",
        ".\n",
        "\n"
      ]
    },
    {
      "cell_type": "code",
      "metadata": {
        "colab": {
          "base_uri": "https://localhost:8080/"
        },
        "id": "1hT4M3hAgR1h",
        "outputId": "eb7a87b3-47db-4f7b-e404-6bb00e275ad5"
      },
      "source": [
        "rdd=spark.sparkContext.parallelize([1,2,3,4,56])\n",
        "print(\"rdd count\",rdd.count())"
      ],
      "execution_count": null,
      "outputs": [
        {
          "output_type": "stream",
          "text": [
            "rdd count 5\n"
          ],
          "name": "stdout"
        }
      ]
    },
    {
      "cell_type": "markdown",
      "metadata": {
        "id": "HQHVIlHgityG"
      },
      "source": [
        "IRIS DATASET"
      ]
    },
    {
      "cell_type": "code",
      "metadata": {
        "id": "tvSwvYtXgvp2"
      },
      "source": [
        "#from sklearn import datasets\n",
        "\n",
        "#iris = datasets.load_iris()"
      ],
      "execution_count": null,
      "outputs": []
    },
    {
      "cell_type": "code",
      "metadata": {
        "colab": {
          "base_uri": "https://localhost:8080/"
        },
        "id": "56BDBPnZnw4h",
        "outputId": "74cb47fd-1895-4a14-d7ae-5a74c475ed8d"
      },
      "source": [
        "!git clone https://gist.github.com/a08a1080b88344b0c8a7.git"
      ],
      "execution_count": null,
      "outputs": [
        {
          "output_type": "stream",
          "text": [
            "Cloning into 'a08a1080b88344b0c8a7'...\n",
            "remote: Enumerating objects: 35, done.\u001b[K\n",
            "remote: Total 35 (delta 0), reused 0 (delta 0), pack-reused 35\u001b[K\n",
            "Unpacking objects: 100% (35/35), done.\n"
          ],
          "name": "stdout"
        }
      ]
    },
    {
      "cell_type": "code",
      "metadata": {
        "id": "M5oSEUYalpDU"
      },
      "source": [
        "#!wget https://github.com/MargaretHall/Fuzzy_cMean_entropy.git\n"
      ],
      "execution_count": null,
      "outputs": []
    },
    {
      "cell_type": "code",
      "metadata": {
        "colab": {
          "base_uri": "https://localhost:8080/"
        },
        "id": "t1tJXtIIoxYx",
        "outputId": "bba07cb5-5199-4e04-f815-26ff0a5a2cd1"
      },
      "source": [
        "ls"
      ],
      "execution_count": null,
      "outputs": [
        {
          "output_type": "stream",
          "text": [
            "\u001b[0m\u001b[01;34ma08a1080b88344b0c8a7\u001b[0m/  README.md\n",
            "index.html             \u001b[01;34mspark-3.1.2-bin-hadoop3.2\u001b[0m/\n",
            "iris.csv               spark-3.1.2-bin-hadoop3.2.tgz\n",
            "iris.json\n"
          ],
          "name": "stdout"
        }
      ]
    },
    {
      "cell_type": "code",
      "metadata": {
        "colab": {
          "base_uri": "https://localhost:8080/"
        },
        "id": "HsJs1FHppJXF",
        "outputId": "043e2605-0d91-4fa3-a2c0-796af0af9e48"
      },
      "source": [
        "cd a08a1080b88344b0c8a7"
      ],
      "execution_count": null,
      "outputs": [
        {
          "output_type": "stream",
          "text": [
            "/content/a08a1080b88344b0c8a7/a08a1080b88344b0c8a7\n"
          ],
          "name": "stdout"
        }
      ]
    },
    {
      "cell_type": "code",
      "metadata": {
        "colab": {
          "base_uri": "https://localhost:8080/"
        },
        "id": "5EoNM4vppMxf",
        "outputId": "1bd4daf8-729e-4272-aef3-aaea481e7680"
      },
      "source": [
        "ls"
      ],
      "execution_count": null,
      "outputs": [
        {
          "output_type": "stream",
          "text": [
            "index.html  iris.csv  iris.json  README.md\n"
          ],
          "name": "stdout"
        }
      ]
    },
    {
      "cell_type": "code",
      "metadata": {
        "id": "_exxUB32pNXe"
      },
      "source": [
        "df=spark.read.csv('/content/a08a1080b88344b0c8a7/iris.csv',header=True)"
      ],
      "execution_count": null,
      "outputs": []
    },
    {
      "cell_type": "code",
      "metadata": {
        "colab": {
          "base_uri": "https://localhost:8080/"
        },
        "id": "k2DTGEt8pWky",
        "outputId": "6c75da06-e4d1-4b0d-f99c-45c1da3ca0b7"
      },
      "source": [
        "df.show()"
      ],
      "execution_count": null,
      "outputs": [
        {
          "output_type": "stream",
          "text": [
            "+------------+-----------+------------+-----------+-------+\n",
            "|sepal_length|sepal_width|petal_length|petal_width|species|\n",
            "+------------+-----------+------------+-----------+-------+\n",
            "|         5.1|        3.5|         1.4|        0.2| setosa|\n",
            "|         4.9|        3.0|         1.4|        0.2| setosa|\n",
            "|         4.7|        3.2|         1.3|        0.2| setosa|\n",
            "|         4.6|        3.1|         1.5|        0.2| setosa|\n",
            "|         5.0|        3.6|         1.4|        0.2| setosa|\n",
            "|         5.4|        3.9|         1.7|        0.4| setosa|\n",
            "|         4.6|        3.4|         1.4|        0.3| setosa|\n",
            "|         5.0|        3.4|         1.5|        0.2| setosa|\n",
            "|         4.4|        2.9|         1.4|        0.2| setosa|\n",
            "|         4.9|        3.1|         1.5|        0.1| setosa|\n",
            "|         5.4|        3.7|         1.5|        0.2| setosa|\n",
            "|         4.8|        3.4|         1.6|        0.2| setosa|\n",
            "|         4.8|        3.0|         1.4|        0.1| setosa|\n",
            "|         4.3|        3.0|         1.1|        0.1| setosa|\n",
            "|         5.8|        4.0|         1.2|        0.2| setosa|\n",
            "|         5.7|        4.4|         1.5|        0.4| setosa|\n",
            "|         5.4|        3.9|         1.3|        0.4| setosa|\n",
            "|         5.1|        3.5|         1.4|        0.3| setosa|\n",
            "|         5.7|        3.8|         1.7|        0.3| setosa|\n",
            "|         5.1|        3.8|         1.5|        0.3| setosa|\n",
            "+------------+-----------+------------+-----------+-------+\n",
            "only showing top 20 rows\n",
            "\n"
          ],
          "name": "stdout"
        }
      ]
    },
    {
      "cell_type": "code",
      "metadata": {
        "colab": {
          "base_uri": "https://localhost:8080/"
        },
        "id": "RmwekfB2qTxd",
        "outputId": "e7e86722-1bc9-438f-dc4a-917017f3a04b"
      },
      "source": [
        "df.printSchema()"
      ],
      "execution_count": null,
      "outputs": [
        {
          "output_type": "stream",
          "text": [
            "root\n",
            " |-- sepal_length: string (nullable = true)\n",
            " |-- sepal_width: string (nullable = true)\n",
            " |-- petal_length: string (nullable = true)\n",
            " |-- petal_width: string (nullable = true)\n",
            " |-- species: string (nullable = true)\n",
            "\n"
          ],
          "name": "stdout"
        }
      ]
    },
    {
      "cell_type": "code",
      "metadata": {
        "colab": {
          "base_uri": "https://localhost:8080/"
        },
        "id": "G3wJINeoqXVf",
        "outputId": "14f648d2-1bc0-4420-e22a-f968c754cc4c"
      },
      "source": [
        "df.count()"
      ],
      "execution_count": null,
      "outputs": [
        {
          "output_type": "execute_result",
          "data": {
            "text/plain": [
              "150"
            ]
          },
          "metadata": {
            "tags": []
          },
          "execution_count": 64
        }
      ]
    },
    {
      "cell_type": "code",
      "metadata": {
        "colab": {
          "base_uri": "https://localhost:8080/"
        },
        "id": "nkpP3ef6rSsp",
        "outputId": "4da8f468-2f5d-4f7e-b752-c301a4a7edce"
      },
      "source": [
        "df.select('sepal_length',df.sepal_width,'species').show()"
      ],
      "execution_count": null,
      "outputs": [
        {
          "output_type": "stream",
          "text": [
            "+------------+-----------+-------+\n",
            "|sepal_length|sepal_width|species|\n",
            "+------------+-----------+-------+\n",
            "|         5.1|        3.5| setosa|\n",
            "|         4.9|        3.0| setosa|\n",
            "|         4.7|        3.2| setosa|\n",
            "|         4.6|        3.1| setosa|\n",
            "|         5.0|        3.6| setosa|\n",
            "|         5.4|        3.9| setosa|\n",
            "|         4.6|        3.4| setosa|\n",
            "|         5.0|        3.4| setosa|\n",
            "|         4.4|        2.9| setosa|\n",
            "|         4.9|        3.1| setosa|\n",
            "|         5.4|        3.7| setosa|\n",
            "|         4.8|        3.4| setosa|\n",
            "|         4.8|        3.0| setosa|\n",
            "|         4.3|        3.0| setosa|\n",
            "|         5.8|        4.0| setosa|\n",
            "|         5.7|        4.4| setosa|\n",
            "|         5.4|        3.9| setosa|\n",
            "|         5.1|        3.5| setosa|\n",
            "|         5.7|        3.8| setosa|\n",
            "|         5.1|        3.8| setosa|\n",
            "+------------+-----------+-------+\n",
            "only showing top 20 rows\n",
            "\n"
          ],
          "name": "stdout"
        }
      ]
    },
    {
      "cell_type": "code",
      "metadata": {
        "colab": {
          "base_uri": "https://localhost:8080/"
        },
        "id": "iVxSTs6EsT4S",
        "outputId": "f8161a2f-41e4-4375-ef66-f915041e4ccf"
      },
      "source": [
        "df.describe().show()"
      ],
      "execution_count": null,
      "outputs": [
        {
          "output_type": "stream",
          "text": [
            "+-------+------------------+-------------------+------------------+------------------+---------+\n",
            "|summary|      sepal_length|        sepal_width|      petal_length|       petal_width|  species|\n",
            "+-------+------------------+-------------------+------------------+------------------+---------+\n",
            "|  count|               150|                150|               150|               150|      150|\n",
            "|   mean| 5.843333333333335| 3.0540000000000007|3.7586666666666693|1.1986666666666672|     null|\n",
            "| stddev|0.8280661279778637|0.43359431136217375| 1.764420419952262|0.7631607417008414|     null|\n",
            "|    min|               4.3|                2.0|               1.0|               0.1|   setosa|\n",
            "|    max|               7.9|                4.4|               6.9|               2.5|virginica|\n",
            "+-------+------------------+-------------------+------------------+------------------+---------+\n",
            "\n"
          ],
          "name": "stdout"
        }
      ]
    },
    {
      "cell_type": "code",
      "metadata": {
        "colab": {
          "base_uri": "https://localhost:8080/"
        },
        "id": "FDKechs1saWC",
        "outputId": "92bcdd7b-7db5-4b01-f5ae-0a298d82b874"
      },
      "source": [
        "df.select(\"species\").distinct().show()"
      ],
      "execution_count": null,
      "outputs": [
        {
          "output_type": "stream",
          "text": [
            "+----------+\n",
            "|   species|\n",
            "+----------+\n",
            "| virginica|\n",
            "|versicolor|\n",
            "|    setosa|\n",
            "+----------+\n",
            "\n"
          ],
          "name": "stdout"
        }
      ]
    },
    {
      "cell_type": "markdown",
      "metadata": {
        "id": "0q1CEqjMp4eO"
      },
      "source": [
        "## **PySpark SQL **\n",
        "\n"
      ]
    },
    {
      "cell_type": "code",
      "metadata": {
        "colab": {
          "base_uri": "https://localhost:8080/"
        },
        "id": "pofbo5pYpgjV",
        "outputId": "d4427e04-baa1-4fe0-9eb2-bc6ead03baca"
      },
      "source": [
        "\n",
        "df.createOrReplaceTempView(\"IRIS_DATA\")\n",
        "df2 = spark.sql(\"SELECT * from IRIS_DATA\")\n",
        "df2.printSchema()\n",
        "df2.show()"
      ],
      "execution_count": null,
      "outputs": [
        {
          "output_type": "stream",
          "text": [
            "root\n",
            " |-- sepal_length: string (nullable = true)\n",
            " |-- sepal_width: string (nullable = true)\n",
            " |-- petal_length: string (nullable = true)\n",
            " |-- petal_width: string (nullable = true)\n",
            " |-- species: string (nullable = true)\n",
            "\n",
            "+------------+-----------+------------+-----------+-------+\n",
            "|sepal_length|sepal_width|petal_length|petal_width|species|\n",
            "+------------+-----------+------------+-----------+-------+\n",
            "|         5.1|        3.5|         1.4|        0.2| setosa|\n",
            "|         4.9|        3.0|         1.4|        0.2| setosa|\n",
            "|         4.7|        3.2|         1.3|        0.2| setosa|\n",
            "|         4.6|        3.1|         1.5|        0.2| setosa|\n",
            "|         5.0|        3.6|         1.4|        0.2| setosa|\n",
            "|         5.4|        3.9|         1.7|        0.4| setosa|\n",
            "|         4.6|        3.4|         1.4|        0.3| setosa|\n",
            "|         5.0|        3.4|         1.5|        0.2| setosa|\n",
            "|         4.4|        2.9|         1.4|        0.2| setosa|\n",
            "|         4.9|        3.1|         1.5|        0.1| setosa|\n",
            "|         5.4|        3.7|         1.5|        0.2| setosa|\n",
            "|         4.8|        3.4|         1.6|        0.2| setosa|\n",
            "|         4.8|        3.0|         1.4|        0.1| setosa|\n",
            "|         4.3|        3.0|         1.1|        0.1| setosa|\n",
            "|         5.8|        4.0|         1.2|        0.2| setosa|\n",
            "|         5.7|        4.4|         1.5|        0.4| setosa|\n",
            "|         5.4|        3.9|         1.3|        0.4| setosa|\n",
            "|         5.1|        3.5|         1.4|        0.3| setosa|\n",
            "|         5.7|        3.8|         1.7|        0.3| setosa|\n",
            "|         5.1|        3.8|         1.5|        0.3| setosa|\n",
            "+------------+-----------+------------+-----------+-------+\n",
            "only showing top 20 rows\n",
            "\n"
          ],
          "name": "stdout"
        }
      ]
    },
    {
      "cell_type": "code",
      "metadata": {
        "colab": {
          "base_uri": "https://localhost:8080/"
        },
        "id": "UOLVKshWtHnp",
        "outputId": "9bf674f4-c82a-4695-89fb-5888130c05be"
      },
      "source": [
        "classDF=spark.sql(\"SELECT species,count(*) from IRIS_DATA group by species\")\n",
        "classDF.printSchema()\n",
        "classDF.show()"
      ],
      "execution_count": null,
      "outputs": [
        {
          "output_type": "stream",
          "text": [
            "root\n",
            " |-- species: string (nullable = true)\n",
            " |-- count(1): long (nullable = false)\n",
            "\n",
            "+----------+--------+\n",
            "|   species|count(1)|\n",
            "+----------+--------+\n",
            "| virginica|      50|\n",
            "|versicolor|      50|\n",
            "|    setosa|      50|\n",
            "+----------+--------+\n",
            "\n"
          ],
          "name": "stdout"
        }
      ]
    },
    {
      "cell_type": "markdown",
      "metadata": {
        "id": "KdfRqCTm8XH6"
      },
      "source": [
        ""
      ]
    },
    {
      "cell_type": "markdown",
      "metadata": {
        "id": "Evn1pJsi7URJ"
      },
      "source": [
        "# Vector Assembler\n"
      ]
    },
    {
      "cell_type": "code",
      "metadata": {
        "colab": {
          "base_uri": "https://localhost:8080/"
        },
        "id": "U8Je7pY5708l",
        "outputId": "5b853d2f-36e2-4a09-a1b6-6774db2b35e8"
      },
      "source": [
        "df.show(5)"
      ],
      "execution_count": null,
      "outputs": [
        {
          "output_type": "stream",
          "text": [
            "+------------+-----------+------------+-----------+-------+\n",
            "|sepal_length|sepal_width|petal_length|petal_width|species|\n",
            "+------------+-----------+------------+-----------+-------+\n",
            "|         5.1|        3.5|         1.4|        0.2| setosa|\n",
            "|         4.9|        3.0|         1.4|        0.2| setosa|\n",
            "|         4.7|        3.2|         1.3|        0.2| setosa|\n",
            "|         4.6|        3.1|         1.5|        0.2| setosa|\n",
            "|         5.0|        3.6|         1.4|        0.2| setosa|\n",
            "+------------+-----------+------------+-----------+-------+\n",
            "only showing top 5 rows\n",
            "\n"
          ],
          "name": "stdout"
        }
      ]
    },
    {
      "cell_type": "code",
      "metadata": {
        "id": "etgoNHA8Z_hM"
      },
      "source": [
        "mod=df.select(df.sepal_length.cast(\"float\"),df.sepal_width.cast(\"float\"),df.petal_length.cast(\"float\"),df.petal_width.cast(\"float\"),df.species)"
      ],
      "execution_count": null,
      "outputs": []
    },
    {
      "cell_type": "code",
      "metadata": {
        "colab": {
          "base_uri": "https://localhost:8080/"
        },
        "id": "a_8BXecva4as",
        "outputId": "e3cc9b00-56b2-4db2-94dc-46fb7f28e37b"
      },
      "source": [
        "mod.show()"
      ],
      "execution_count": null,
      "outputs": [
        {
          "output_type": "stream",
          "text": [
            "+------------+-----------+------------+-----------+-------+\n",
            "|sepal_length|sepal_width|petal_length|petal_width|species|\n",
            "+------------+-----------+------------+-----------+-------+\n",
            "|         5.1|        3.5|         1.4|        0.2| setosa|\n",
            "|         4.9|        3.0|         1.4|        0.2| setosa|\n",
            "|         4.7|        3.2|         1.3|        0.2| setosa|\n",
            "|         4.6|        3.1|         1.5|        0.2| setosa|\n",
            "|         5.0|        3.6|         1.4|        0.2| setosa|\n",
            "|         5.4|        3.9|         1.7|        0.4| setosa|\n",
            "|         4.6|        3.4|         1.4|        0.3| setosa|\n",
            "|         5.0|        3.4|         1.5|        0.2| setosa|\n",
            "|         4.4|        2.9|         1.4|        0.2| setosa|\n",
            "|         4.9|        3.1|         1.5|        0.1| setosa|\n",
            "|         5.4|        3.7|         1.5|        0.2| setosa|\n",
            "|         4.8|        3.4|         1.6|        0.2| setosa|\n",
            "|         4.8|        3.0|         1.4|        0.1| setosa|\n",
            "|         4.3|        3.0|         1.1|        0.1| setosa|\n",
            "|         5.8|        4.0|         1.2|        0.2| setosa|\n",
            "|         5.7|        4.4|         1.5|        0.4| setosa|\n",
            "|         5.4|        3.9|         1.3|        0.4| setosa|\n",
            "|         5.1|        3.5|         1.4|        0.3| setosa|\n",
            "|         5.7|        3.8|         1.7|        0.3| setosa|\n",
            "|         5.1|        3.8|         1.5|        0.3| setosa|\n",
            "+------------+-----------+------------+-----------+-------+\n",
            "only showing top 20 rows\n",
            "\n"
          ],
          "name": "stdout"
        }
      ]
    },
    {
      "cell_type": "code",
      "metadata": {
        "colab": {
          "base_uri": "https://localhost:8080/"
        },
        "id": "pfkfBSQ57UkY",
        "outputId": "08815e54-ab06-4f7a-ae28-a7cba16746d5"
      },
      "source": [
        "from pyspark.ml.feature import VectorAssembler\n",
        "\n",
        "# specify the input and output columns of the vector assembler\n",
        "assembler = VectorAssembler(inputCols=['sepal_length','sepal_width','petal_length','petal_width'],outputCol='vector')\n",
        "\n",
        "# transform the data\n",
        "final_data = assembler.transform(mod)\n",
        "\n",
        "# view the transformed vector\n",
        "final_data.select('vector').show()"
      ],
      "execution_count": null,
      "outputs": [
        {
          "output_type": "stream",
          "text": [
            "+--------------------+\n",
            "|              vector|\n",
            "+--------------------+\n",
            "|[5.09999990463256...|\n",
            "|[4.90000009536743...|\n",
            "|[4.69999980926513...|\n",
            "|[4.59999990463256...|\n",
            "|[5.0,3.5999999046...|\n",
            "|[5.40000009536743...|\n",
            "|[4.59999990463256...|\n",
            "|[5.0,3.4000000953...|\n",
            "|[4.40000009536743...|\n",
            "|[4.90000009536743...|\n",
            "|[5.40000009536743...|\n",
            "|[4.80000019073486...|\n",
            "|[4.80000019073486...|\n",
            "|[4.30000019073486...|\n",
            "|[5.80000019073486...|\n",
            "|[5.69999980926513...|\n",
            "|[5.40000009536743...|\n",
            "|[5.09999990463256...|\n",
            "|[5.69999980926513...|\n",
            "|[5.09999990463256...|\n",
            "+--------------------+\n",
            "only showing top 20 rows\n",
            "\n"
          ],
          "name": "stdout"
        }
      ]
    },
    {
      "cell_type": "markdown",
      "metadata": {
        "id": "iuRRavFccrSr"
      },
      "source": [
        "EXAMPLES : USING PIPELINES To Tranform The data"
      ]
    },
    {
      "cell_type": "code",
      "metadata": {
        "colab": {
          "base_uri": "https://localhost:8080/"
        },
        "id": "gDwHeijrcv3J",
        "outputId": "e015b0cf-4a16-4292-8494-93c788459377"
      },
      "source": [
        "mod.show(4)"
      ],
      "execution_count": null,
      "outputs": [
        {
          "output_type": "stream",
          "text": [
            "+------------+-----------+------------+-----------+-------+\n",
            "|sepal_length|sepal_width|petal_length|petal_width|species|\n",
            "+------------+-----------+------------+-----------+-------+\n",
            "|         5.1|        3.5|         1.4|        0.2| setosa|\n",
            "|         4.9|        3.0|         1.4|        0.2| setosa|\n",
            "|         4.7|        3.2|         1.3|        0.2| setosa|\n",
            "|         4.6|        3.1|         1.5|        0.2| setosa|\n",
            "+------------+-----------+------------+-----------+-------+\n",
            "only showing top 4 rows\n",
            "\n"
          ],
          "name": "stdout"
        }
      ]
    },
    {
      "cell_type": "code",
      "metadata": {
        "id": "HuGY71PShitt"
      },
      "source": [
        "from pyspark.ml import Pipeline\n",
        "from pyspark.ml.classification import DecisionTreeClassifier\n",
        "from pyspark.ml.feature import StringIndexer"
      ],
      "execution_count": null,
      "outputs": []
    },
    {
      "cell_type": "code",
      "metadata": {
        "id": "2m_hTOdVB5Sb"
      },
      "source": [
        "stage_1 = StringIndexer(inputCol= 'species', outputCol= 'y')\n",
        "\n",
        "stage_2= VectorAssembler(inputCols=['sepal_length', 'sepal_width', 'petal_length', 'petal_width'], outputCol='X')\n",
        "dt = DecisionTreeClassifier(featuresCol = 'X', labelCol = 'y', maxDepth = 4)\n",
        "# setup the pipeline\n",
        "classification_pipeline = Pipeline(stages=[stage_1,stage_2,dt])\n",
        "model = classification_pipeline.fit(mod)"
      ],
      "execution_count": null,
      "outputs": []
    },
    {
      "cell_type": "code",
      "metadata": {
        "id": "6tcIQysakfFZ"
      },
      "source": [
        "transf_mod=model.transform(mod)"
      ],
      "execution_count": null,
      "outputs": []
    },
    {
      "cell_type": "code",
      "metadata": {
        "colab": {
          "base_uri": "https://localhost:8080/"
        },
        "id": "edP2yL5QlObp",
        "outputId": "2b09ed05-fb9e-4c55-97ef-8e936224b71e"
      },
      "source": [
        "transf_mod.show()"
      ],
      "execution_count": null,
      "outputs": [
        {
          "output_type": "stream",
          "text": [
            "+------------+-----------+------------+-----------+-------+---+--------------------+--------------+-------------+----------+\n",
            "|sepal_length|sepal_width|petal_length|petal_width|species|  y|                   X| rawPrediction|  probability|prediction|\n",
            "+------------+-----------+------------+-----------+-------+---+--------------------+--------------+-------------+----------+\n",
            "|         5.1|        3.5|         1.4|        0.2| setosa|0.0|[5.09999990463256...|[50.0,0.0,0.0]|[1.0,0.0,0.0]|       0.0|\n",
            "|         4.9|        3.0|         1.4|        0.2| setosa|0.0|[4.90000009536743...|[50.0,0.0,0.0]|[1.0,0.0,0.0]|       0.0|\n",
            "|         4.7|        3.2|         1.3|        0.2| setosa|0.0|[4.69999980926513...|[50.0,0.0,0.0]|[1.0,0.0,0.0]|       0.0|\n",
            "|         4.6|        3.1|         1.5|        0.2| setosa|0.0|[4.59999990463256...|[50.0,0.0,0.0]|[1.0,0.0,0.0]|       0.0|\n",
            "|         5.0|        3.6|         1.4|        0.2| setosa|0.0|[5.0,3.5999999046...|[50.0,0.0,0.0]|[1.0,0.0,0.0]|       0.0|\n",
            "|         5.4|        3.9|         1.7|        0.4| setosa|0.0|[5.40000009536743...|[50.0,0.0,0.0]|[1.0,0.0,0.0]|       0.0|\n",
            "|         4.6|        3.4|         1.4|        0.3| setosa|0.0|[4.59999990463256...|[50.0,0.0,0.0]|[1.0,0.0,0.0]|       0.0|\n",
            "|         5.0|        3.4|         1.5|        0.2| setosa|0.0|[5.0,3.4000000953...|[50.0,0.0,0.0]|[1.0,0.0,0.0]|       0.0|\n",
            "|         4.4|        2.9|         1.4|        0.2| setosa|0.0|[4.40000009536743...|[50.0,0.0,0.0]|[1.0,0.0,0.0]|       0.0|\n",
            "|         4.9|        3.1|         1.5|        0.1| setosa|0.0|[4.90000009536743...|[50.0,0.0,0.0]|[1.0,0.0,0.0]|       0.0|\n",
            "|         5.4|        3.7|         1.5|        0.2| setosa|0.0|[5.40000009536743...|[50.0,0.0,0.0]|[1.0,0.0,0.0]|       0.0|\n",
            "|         4.8|        3.4|         1.6|        0.2| setosa|0.0|[4.80000019073486...|[50.0,0.0,0.0]|[1.0,0.0,0.0]|       0.0|\n",
            "|         4.8|        3.0|         1.4|        0.1| setosa|0.0|[4.80000019073486...|[50.0,0.0,0.0]|[1.0,0.0,0.0]|       0.0|\n",
            "|         4.3|        3.0|         1.1|        0.1| setosa|0.0|[4.30000019073486...|[50.0,0.0,0.0]|[1.0,0.0,0.0]|       0.0|\n",
            "|         5.8|        4.0|         1.2|        0.2| setosa|0.0|[5.80000019073486...|[50.0,0.0,0.0]|[1.0,0.0,0.0]|       0.0|\n",
            "|         5.7|        4.4|         1.5|        0.4| setosa|0.0|[5.69999980926513...|[50.0,0.0,0.0]|[1.0,0.0,0.0]|       0.0|\n",
            "|         5.4|        3.9|         1.3|        0.4| setosa|0.0|[5.40000009536743...|[50.0,0.0,0.0]|[1.0,0.0,0.0]|       0.0|\n",
            "|         5.1|        3.5|         1.4|        0.3| setosa|0.0|[5.09999990463256...|[50.0,0.0,0.0]|[1.0,0.0,0.0]|       0.0|\n",
            "|         5.7|        3.8|         1.7|        0.3| setosa|0.0|[5.69999980926513...|[50.0,0.0,0.0]|[1.0,0.0,0.0]|       0.0|\n",
            "|         5.1|        3.8|         1.5|        0.3| setosa|0.0|[5.09999990463256...|[50.0,0.0,0.0]|[1.0,0.0,0.0]|       0.0|\n",
            "+------------+-----------+------------+-----------+-------+---+--------------------+--------------+-------------+----------+\n",
            "only showing top 20 rows\n",
            "\n"
          ],
          "name": "stdout"
        }
      ]
    },
    {
      "cell_type": "code",
      "metadata": {
        "id": "7fWH7biXlSIr"
      },
      "source": [
        "df_sum = df.groupby(\"Species\").agg({'species(+)': \"sum\"})\n",
        "display(df_sum)"
      ],
      "execution_count": null,
      "outputs": []
    },
    {
      "cell_type": "code",
      "metadata": {
        "id": "2uggNVpzv1sE",
        "colab": {
          "base_uri": "https://localhost:8080/"
        },
        "outputId": "06e72362-3ac7-4168-e59a-8fde1151654d"
      },
      "source": [
        "[1, 2, 3][1:]"
      ],
      "execution_count": null,
      "outputs": [
        {
          "output_type": "execute_result",
          "data": {
            "text/plain": [
              "[2, 3]"
            ]
          },
          "metadata": {
            "tags": []
          },
          "execution_count": 1
        }
      ]
    },
    {
      "cell_type": "code",
      "metadata": {
        "id": "5xG08caH6BmY"
      },
      "source": [
        ""
      ],
      "execution_count": null,
      "outputs": []
    }
  ]
}